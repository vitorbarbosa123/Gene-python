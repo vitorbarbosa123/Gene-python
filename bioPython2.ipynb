{
  "nbformat": 4,
  "nbformat_minor": 0,
  "metadata": {
    "colab": {
      "name": "bioPython2.ipynb",
      "provenance": [],
      "authorship_tag": "ABX9TyOz1US4oRVMZh18yogFM7fa",
      "include_colab_link": true
    },
    "kernelspec": {
      "name": "python3",
      "display_name": "Python 3"
    },
    "language_info": {
      "name": "python"
    }
  },
  "cells": [
    {
      "cell_type": "markdown",
      "metadata": {
        "id": "view-in-github",
        "colab_type": "text"
      },
      "source": [
        "<a href=\"https://colab.research.google.com/github/vitorbarbosa123/Gene-python/blob/master/bioPython2.ipynb\" target=\"_parent\"><img src=\"https://colab.research.google.com/assets/colab-badge.svg\" alt=\"Open In Colab\"/></a>"
      ]
    },
    {
      "cell_type": "markdown",
      "source": [
        "# **Diagnostico de uma doença genética (Falciforme)**"
      ],
      "metadata": {
        "id": "ZQGzfVWcKdQ_"
      }
    },
    {
      "cell_type": "code",
      "execution_count": 1,
      "metadata": {
        "id": "LdlhAg48KZ7C"
      },
      "outputs": [],
      "source": [
        "# Sequencia de aminoácios das hemoglobinas\n",
        "\n",
        "normal =     \"MVHLTPEEKSAVTALWGKVNVDEVGGEALGRLLVVYPWTQRFFESFGDLSTPDAVMGNPKVKAHGKKVLGAFSDLAHLDNLKGTFATLSELHCDKLHVDPENFRLLGNVLVCVLAHHFGKEFTPPVQAAYQKVVAGVANALAHKYH\"\n",
        "falciforme = \"MVHLTPVEKSAVTALWGKVNVDEVGGEALGRLLVVYPWTQRFFESFGDLSTPDAVMGNPKVKAHGKKVLGAFSDGLAHLDNLKGTFATLSELHCDKLHVDPENFRLLGNVLVCVLAHHFGKEFTPPVGAAYQKVVAGVANALAHKY\""
      ]
    },
    {
      "cell_type": "code",
      "source": [
        "massa_aminoacido = { \"A\": 71.03711, \"C\": 103.00919, \"D\": 115.02694, \"E\": 129.04259,\n",
        "                     \"F\": 147.06841, \"G\": 57.02146, \"H\": 137.05891, \"I\": 113.08406,\n",
        "                     \"K\": 128.09496, \"L\": 113.08406, \"M\": 131.04049,\"N\": 114.04293,\n",
        "                     \"P\": 97.05276, \"Q\": 128.05858, \"R\": 156.10111, \"S\": 97.03203,\n",
        "                     \"T\": 101.04768, \"V\": 99.06841, \"W\": 186.07931, \"Y\": 163.06333}"
      ],
      "metadata": {
        "id": "jYhMKPI9NhGK"
      },
      "execution_count": 2,
      "outputs": []
    },
    {
      "cell_type": "code",
      "source": [
        "massa_normal = 0"
      ],
      "metadata": {
        "id": "zcQJpwPCP9XM"
      },
      "execution_count": 3,
      "outputs": []
    },
    {
      "cell_type": "code",
      "source": [
        "for aa in normal:\n",
        "  massa = massa_aminoacido[aa]\n",
        "  massa_normal += massa"
      ],
      "metadata": {
        "id": "2LAQINQ6QEq3"
      },
      "execution_count": 4,
      "outputs": []
    },
    {
      "cell_type": "code",
      "source": [
        "massa_falciforme = 0 "
      ],
      "metadata": {
        "id": "BcTDb-gNQd6u"
      },
      "execution_count": 5,
      "outputs": []
    },
    {
      "cell_type": "code",
      "source": [
        "for aa in normal:\n",
        "  massa = massa_aminoacido[aa]\n",
        "  massa_falciforme += massa"
      ],
      "metadata": {
        "id": "dd8XkJ7nQfsQ"
      },
      "execution_count": 6,
      "outputs": []
    },
    {
      "cell_type": "code",
      "source": [
        "print(\"Normal(A) =    \", massa_normal)\n",
        "print(\"Falciforme(S) =\", massa_falciforme)"
      ],
      "metadata": {
        "colab": {
          "base_uri": "https://localhost:8080/"
        },
        "id": "x6Jhcj5hQkIl",
        "outputId": "8385533e-a980-459d-d6ae-55c1014befa3"
      },
      "execution_count": 11,
      "outputs": [
        {
          "output_type": "stream",
          "name": "stdout",
          "text": [
            "Normal(A) =     15963.257809999983\n",
            "Falciforme(S) = 15963.257809999983\n"
          ]
        }
      ]
    }
  ]
}