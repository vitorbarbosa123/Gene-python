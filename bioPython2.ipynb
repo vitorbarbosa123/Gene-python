{
  "nbformat": 4,
  "nbformat_minor": 0,
  "metadata": {
    "colab": {
      "name": "bioPython2.ipynb",
      "provenance": [],
      "authorship_tag": "ABX9TyOpJIEaRGCh2jzmIoFYqcy5",
      "include_colab_link": true
    },
    "kernelspec": {
      "name": "python3",
      "display_name": "Python 3"
    },
    "language_info": {
      "name": "python"
    }
  },
  "cells": [
    {
      "cell_type": "markdown",
      "metadata": {
        "id": "view-in-github",
        "colab_type": "text"
      },
      "source": [
        "<a href=\"https://colab.research.google.com/github/vitorbarbosa123/Gene-python/blob/master/bioPython2.ipynb\" target=\"_parent\"><img src=\"https://colab.research.google.com/assets/colab-badge.svg\" alt=\"Open In Colab\"/></a>"
      ]
    },
    {
      "cell_type": "markdown",
      "source": [
        "# **Diagnostico de uma doença genética (Falciforme)**"
      ],
      "metadata": {
        "id": "ZQGzfVWcKdQ_"
      }
    },
    {
      "cell_type": "code",
      "execution_count": 11,
      "metadata": {
        "id": "LdlhAg48KZ7C"
      },
      "outputs": [],
      "source": [
        "# Sequencia de aminoácios das hemoglobinas\n",
        "normal =     \"MVHLTPEEKSAVTALWGKVNVDEVGGEALGRLLVVYPWTQRFFESFGDLSTPDAVMGNPKVKAHGKKVLGAFSDLAHLDNLKGTFATLSELHCDKLHVDPENFRLLGNVLVCVLAHHFGKEFTPPVQAAYQKVVAGVANALAHKYH\"\n",
        "falciforme = \"MVHLTPVEKSAVTALWGKVNVDEVGGEALGRLLVVYPWTQRFFESFGDLSTPDAVMGNPKVKAHGKKVLGAFSDGLAHLDNLKGTFATLSELHCDKLHVDPENFRLLGNVLVCVLAHHFGKEFTPPVGAAYQKVVAGVANALAHKY\"\n"
      ]
    },
    {
      "cell_type": "code",
      "source": [
        "massa_aminoacido = { \"A\": 71.03711, \"C\": 103.00919, \"D\": 115.02694, \"E\": 129.04259,\n",
        "                     \"F\": 147.06841, \"G\": 57.02146, \"H\": 137.05891, \"I\": 113.08406,\n",
        "                     \"K\": 128.09496, \"L\": 113.08406, \"M\": 131.04049,\"N\": 114.04293,\n",
        "                     \"P\": 97.05276, \"Q\": 128.05858, \"R\": 156.10111, \"S\": 97.03203,\n",
        "                     \"T\": 101.04768, \"V\": 99.06841, \"W\": 186.07931, \"Y\": 163.06333}"
      ],
      "metadata": {
        "id": "jYhMKPI9NhGK"
      },
      "execution_count": 13,
      "outputs": []
    },
    {
      "cell_type": "code",
      "source": [
        "massa_normal = 0"
      ],
      "metadata": {
        "id": "zcQJpwPCP9XM"
      },
      "execution_count": 14,
      "outputs": []
    },
    {
      "cell_type": "code",
      "source": [
        "for aa in normal:\n",
        "  massa = massa_aminoacido[aa]\n",
        "  massa_normal += massa"
      ],
      "metadata": {
        "id": "2LAQINQ6QEq3"
      },
      "execution_count": 15,
      "outputs": []
    },
    {
      "cell_type": "code",
      "source": [
        "massa_falciforme = 0 "
      ],
      "metadata": {
        "id": "BcTDb-gNQd6u"
      },
      "execution_count": 16,
      "outputs": []
    },
    {
      "cell_type": "code",
      "source": [
        "for aa in falciforme:\n",
        "  massa = massa_aminoacido[aa]\n",
        "  massa_falciforme += massa"
      ],
      "metadata": {
        "id": "dd8XkJ7nQfsQ"
      },
      "execution_count": 17,
      "outputs": []
    },
    {
      "cell_type": "code",
      "source": [
        "print(\"Normal(A) =    \", massa_normal)\n",
        "print(\"Falciforme(S) =\", massa_falciforme)"
      ],
      "metadata": {
        "colab": {
          "base_uri": "https://localhost:8080/"
        },
        "id": "x6Jhcj5hQkIl",
        "outputId": "c42e9c78-cbb0-420b-fb50-48d18b90e207"
      },
      "execution_count": 18,
      "outputs": [
        {
          "output_type": "stream",
          "name": "stdout",
          "text": [
            "Normal(A) =     15963.257809999983\n",
            "Falciforme(S) = 15782.209059999983\n"
          ]
        }
      ]
    }
  ]
}