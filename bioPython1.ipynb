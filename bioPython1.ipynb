{
  "nbformat": 4,
  "nbformat_minor": 0,
  "metadata": {
    "colab": {
      "name": "bioPython1.ipynb",
      "provenance": [],
      "authorship_tag": "ABX9TyMOtKhE2ZQBKtqFsJiJQYhw",
      "include_colab_link": true
    },
    "kernelspec": {
      "name": "python3",
      "display_name": "Python 3"
    },
    "language_info": {
      "name": "python"
    }
  },
  "cells": [
    {
      "cell_type": "markdown",
      "metadata": {
        "id": "view-in-github",
        "colab_type": "text"
      },
      "source": [
        "<a href=\"https://colab.research.google.com/github/vitorbarbosa123/Gene-python/blob/master/bioPython1.ipynb\" target=\"_parent\"><img src=\"https://colab.research.google.com/assets/colab-badge.svg\" alt=\"Open In Colab\"/></a>"
      ]
    },
    {
      "cell_type": "code",
      "source": [
        ""
      ],
      "metadata": {
        "id": "zOX1XsQfKXHW"
      },
      "execution_count": null,
      "outputs": []
    },
    {
      "cell_type": "markdown",
      "source": [
        ""
      ],
      "metadata": {
        "id": "PyzMAm-EKWF8"
      }
    },
    {
      "cell_type": "markdown",
      "source": [
        "# **Reconstrução da história evolutiva entre dois genes.**\n",
        "\n",
        "\n",
        "\n"
      ],
      "metadata": {
        "id": "8kta81wY_WLR"
      }
    },
    {
      "cell_type": "code",
      "execution_count": null,
      "metadata": {
        "id": "WEcNnTdP7hsC"
      },
      "outputs": [],
      "source": [
        "humano =    \"AGTAATATTCTTTATGACAATTCATTTGATTA\"\n",
        "chimpanze = \"AATAATATTCTTTATGACAATTCATTTGATTT\""
      ]
    },
    {
      "cell_type": "code",
      "source": [
        "lista_sequencias = [humano, chimpanze]"
      ],
      "metadata": {
        "id": "26HVYQtt7xEw"
      },
      "execution_count": null,
      "outputs": []
    },
    {
      "cell_type": "code",
      "source": [
        "def cria_matriz(lista):\n",
        "  matriz = {}\n",
        "  tamanho_sequencia = len(lista[0])\n",
        "\n",
        "  for base in \"ACTG\":\n",
        "    matriz[base] = [0] * tamanho_sequencia\n",
        "\n",
        "  return matriz"
      ],
      "metadata": {
        "id": "eUTW5yN771JZ"
      },
      "execution_count": null,
      "outputs": []
    },
    {
      "cell_type": "code",
      "source": [
        "matriz_zeros = cria_matriz(lista_sequencias)\n",
        "print(matriz_zeros)"
      ],
      "metadata": {
        "colab": {
          "base_uri": "https://localhost:8080/"
        },
        "id": "QCw_fnyq8IAi",
        "outputId": "aaf9ae3b-1e72-47b7-c089-4bd93630c721"
      },
      "execution_count": null,
      "outputs": [
        {
          "output_type": "stream",
          "name": "stdout",
          "text": [
            "{'A': [0, 0, 0, 0, 0, 0, 0, 0, 0, 0, 0, 0, 0, 0, 0, 0, 0, 0, 0, 0, 0, 0, 0, 0, 0, 0, 0, 0, 0, 0, 0, 0], 'C': [0, 0, 0, 0, 0, 0, 0, 0, 0, 0, 0, 0, 0, 0, 0, 0, 0, 0, 0, 0, 0, 0, 0, 0, 0, 0, 0, 0, 0, 0, 0, 0], 'T': [0, 0, 0, 0, 0, 0, 0, 0, 0, 0, 0, 0, 0, 0, 0, 0, 0, 0, 0, 0, 0, 0, 0, 0, 0, 0, 0, 0, 0, 0, 0, 0], 'G': [0, 0, 0, 0, 0, 0, 0, 0, 0, 0, 0, 0, 0, 0, 0, 0, 0, 0, 0, 0, 0, 0, 0, 0, 0, 0, 0, 0, 0, 0, 0, 0]}\n"
          ]
        }
      ]
    },
    {
      "cell_type": "code",
      "source": [
        "for linha in matriz_zeros.items():\n",
        "  print(linha)"
      ],
      "metadata": {
        "colab": {
          "base_uri": "https://localhost:8080/"
        },
        "id": "nMfy_-b68XTd",
        "outputId": "57b6b381-73eb-4eff-c157-7319857b2a42"
      },
      "execution_count": null,
      "outputs": [
        {
          "output_type": "stream",
          "name": "stdout",
          "text": [
            "('A', [0, 0, 0, 0, 0, 0, 0, 0, 0, 0, 0, 0, 0, 0, 0, 0, 0, 0, 0, 0, 0, 0, 0, 0, 0, 0, 0, 0, 0, 0, 0, 0])\n",
            "('C', [0, 0, 0, 0, 0, 0, 0, 0, 0, 0, 0, 0, 0, 0, 0, 0, 0, 0, 0, 0, 0, 0, 0, 0, 0, 0, 0, 0, 0, 0, 0, 0])\n",
            "('T', [0, 0, 0, 0, 0, 0, 0, 0, 0, 0, 0, 0, 0, 0, 0, 0, 0, 0, 0, 0, 0, 0, 0, 0, 0, 0, 0, 0, 0, 0, 0, 0])\n",
            "('G', [0, 0, 0, 0, 0, 0, 0, 0, 0, 0, 0, 0, 0, 0, 0, 0, 0, 0, 0, 0, 0, 0, 0, 0, 0, 0, 0, 0, 0, 0, 0, 0])\n"
          ]
        }
      ]
    },
    {
      "cell_type": "code",
      "source": [
        "def preenche_matriz(lista, matriz_zeros):\n",
        "  tamanho_sequencia = len(lista[0])\n",
        "\n",
        "  for seq in lista:\n",
        "    for pos in range(tamanho_sequencia):\n",
        "      base = seq[pos]\n",
        "      matriz_zeros[base][pos] += 1 \n",
        "\n",
        "  return matriz_zeros"
      ],
      "metadata": {
        "id": "JTdqWL6s8jEB"
      },
      "execution_count": null,
      "outputs": []
    },
    {
      "cell_type": "code",
      "source": [
        "matriz = preenche_matriz(lista_sequencias, matriz_zeros)\n",
        "\n",
        "for linha in matriz.items():\n",
        "  print(linha)"
      ],
      "metadata": {
        "colab": {
          "base_uri": "https://localhost:8080/"
        },
        "id": "y-eLHJVa83zN",
        "outputId": "79c93359-bb27-48d0-d2b3-ec61904d82ae"
      },
      "execution_count": null,
      "outputs": [
        {
          "output_type": "stream",
          "name": "stdout",
          "text": [
            "('A', [2, 1, 0, 2, 2, 0, 2, 0, 0, 0, 0, 0, 0, 2, 0, 0, 2, 0, 2, 2, 0, 0, 0, 2, 0, 0, 0, 0, 2, 0, 0, 1])\n",
            "('C', [0, 0, 0, 0, 0, 0, 0, 0, 0, 2, 0, 0, 0, 0, 0, 0, 0, 2, 0, 0, 0, 0, 2, 0, 0, 0, 0, 0, 0, 0, 0, 0])\n",
            "('T', [0, 0, 2, 0, 0, 2, 0, 2, 2, 0, 2, 2, 2, 0, 2, 0, 0, 0, 0, 0, 2, 2, 0, 0, 2, 2, 2, 0, 0, 2, 2, 1])\n",
            "('G', [0, 1, 0, 0, 0, 0, 0, 0, 0, 0, 0, 0, 0, 0, 0, 2, 0, 0, 0, 0, 0, 0, 0, 0, 0, 0, 0, 2, 0, 0, 0, 0])\n"
          ]
        }
      ]
    },
    {
      "cell_type": "markdown",
      "source": [
        "Em casos onde houve um empate de valores, não é possível definir o grupo genético, com isso, é necessário adicionar um grupo externo para retirar a diferença. "
      ],
      "metadata": {
        "id": "Fsknm-l29GZP"
      }
    },
    {
      "cell_type": "code",
      "source": [
        "grupo_externo = \"GATAATAGTCTATATCGCAACTCATTTGATTA\""
      ],
      "metadata": {
        "id": "HQpzTUDI9RUT"
      },
      "execution_count": null,
      "outputs": []
    },
    {
      "cell_type": "code",
      "source": [
        "lista_sequencias.append(grupo_externo)"
      ],
      "metadata": {
        "id": "MASMDT259YXh"
      },
      "execution_count": null,
      "outputs": []
    },
    {
      "cell_type": "code",
      "source": [
        "matriz_zeros = cria_matriz(lista_sequencias)\n",
        "\n",
        "matriz = preenche_matriz(lista_sequencias, matriz_zeros)\n",
        "for linha in matriz.items():\n",
        "  print(linha)"
      ],
      "metadata": {
        "colab": {
          "base_uri": "https://localhost:8080/"
        },
        "id": "YbQW7XPE9cT7",
        "outputId": "ab8ee7a6-d56c-4352-f6c4-f10ea576f3bd"
      },
      "execution_count": null,
      "outputs": [
        {
          "output_type": "stream",
          "name": "stdout",
          "text": [
            "('A', [2, 2, 0, 3, 3, 0, 3, 0, 0, 0, 0, 1, 0, 3, 0, 0, 2, 0, 3, 3, 0, 0, 0, 3, 0, 0, 0, 0, 3, 0, 0, 2])\n",
            "('C', [0, 0, 0, 0, 0, 0, 0, 0, 0, 3, 0, 0, 0, 0, 0, 1, 0, 3, 0, 0, 1, 0, 3, 0, 0, 0, 0, 0, 0, 0, 0, 0])\n",
            "('T', [0, 0, 3, 0, 0, 3, 0, 2, 3, 0, 3, 2, 3, 0, 3, 0, 0, 0, 0, 0, 2, 3, 0, 0, 3, 3, 3, 0, 0, 3, 3, 1])\n",
            "('G', [1, 1, 0, 0, 0, 0, 0, 1, 0, 0, 0, 0, 0, 0, 0, 2, 1, 0, 0, 0, 0, 0, 0, 0, 0, 0, 0, 3, 0, 0, 0, 0])\n"
          ]
        }
      ]
    },
    {
      "cell_type": "code",
      "source": [
        "def sequencia_ancestral(matriz):\n",
        "  seq_ancestral = \"\"\n",
        "  maior_valor = 0 \n",
        "  tamanho_sequencia = len(matriz[\"A\"])\n",
        "\n",
        "  for pos in range(tamanho_sequencia):\n",
        "    for base in \"ACTG\":\n",
        "      valor_atual = matriz[base][pos]\n",
        "      if valor_atual > maior_valor:\n",
        "        maior_valor = valor_atual\n",
        "        base_mais_frequente = base\n",
        "\n",
        "    seq_ancestral += base_mais_frequente\n",
        "    maior_valor = 0\n",
        "\n",
        "  return seq_ancestral"
      ],
      "metadata": {
        "id": "7s061X2u9xsj"
      },
      "execution_count": null,
      "outputs": []
    },
    {
      "cell_type": "code",
      "source": [
        "ancestral = sequencia_ancestral(matriz)"
      ],
      "metadata": {
        "id": "Y0FXaZEv9x26"
      },
      "execution_count": null,
      "outputs": []
    },
    {
      "cell_type": "code",
      "source": [
        "print(\"Humano:    \", humano)\n",
        "print(\"Chimpanze: \", chimpanze)\n",
        "print(\"Ancestral: \", ancestral)"
      ],
      "metadata": {
        "colab": {
          "base_uri": "https://localhost:8080/"
        },
        "id": "2_YG-ht59x5g",
        "outputId": "4ae56b3b-fd97-4b9d-a1fe-58cca48cb809"
      },
      "execution_count": null,
      "outputs": [
        {
          "output_type": "stream",
          "name": "stdout",
          "text": [
            "Humano:     AGTAATATTCTTTATGACAATTCATTTGATTA\n",
            "Chimpanze:  AATAATATTCTTTATGACAATTCATTTGATTT\n",
            "Ancestral:  AATAATATTCTTTATGACAATTCATTTGATTA\n"
          ]
        }
      ]
    },
    {
      "cell_type": "code",
      "source": [
        ""
      ],
      "metadata": {
        "id": "D2sbmmup_V6_"
      },
      "execution_count": null,
      "outputs": []
    }
  ]
}