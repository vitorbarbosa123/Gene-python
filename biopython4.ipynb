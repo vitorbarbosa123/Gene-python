{
  "nbformat": 4,
  "nbformat_minor": 0,
  "metadata": {
    "colab": {
      "name": "biopython4.ipynb",
      "provenance": [],
      "authorship_tag": "ABX9TyPN0tERvZ9JH8A/dsvlxZk5",
      "include_colab_link": true
    },
    "kernelspec": {
      "name": "python3",
      "display_name": "Python 3"
    },
    "language_info": {
      "name": "python"
    }
  },
  "cells": [
    {
      "cell_type": "markdown",
      "metadata": {
        "id": "view-in-github",
        "colab_type": "text"
      },
      "source": [
        "<a href=\"https://colab.research.google.com/github/vitorbarbosa123/Gene-python/blob/master/biopython4.ipynb\" target=\"_parent\"><img src=\"https://colab.research.google.com/assets/colab-badge.svg\" alt=\"Open In Colab\"/></a>"
      ]
    },
    {
      "cell_type": "markdown",
      "source": [
        "# **Identificando padrões no DNA**\n",
        "\n",
        "A indentificação de padrões é estabelecer a comunicação entre os individuos ou o meio"
      ],
      "metadata": {
        "id": "m5-2t1je8Kvt"
      }
    },
    {
      "cell_type": "code",
      "execution_count": 14,
      "metadata": {
        "id": "d0e-IDv_8I_d"
      },
      "outputs": [],
      "source": [
        "gene1 = \"ATCTACGTGCTGGTAATGAAACTCCACGCACCCAAAGACACG\"\n",
        "gene2 = \"CTCGATATTGCAATTCGTGCTCTCCAAACCTCAAA\"\n",
        "gene3 = \"AGAGAAACGTGATACCCACGATGTAACTCGAC\"\n",
        "gene4 = \"ACCCCGTTATGCAACTCTTTCACGTACACAGAGGGGAA\"\n",
        "\n",
        "padrao = \"TACGTGCT\""
      ]
    },
    {
      "cell_type": "code",
      "source": [
        "genes = [gene1, gene2, gene3, gene4]"
      ],
      "metadata": {
        "id": "FhOmI7hJ98vi"
      },
      "execution_count": 15,
      "outputs": []
    },
    {
      "cell_type": "code",
      "source": [
        "def conta_diferencas(janela, padrao):\n",
        "  diferencas = 0\n",
        "  for base1, base2 in zip(janela, padrao):\n",
        "    if base1 != base2:\n",
        "      diferencas +=1 \n",
        "\n",
        "  return diferencas"
      ],
      "metadata": {
        "id": "pWKhep5q98x6"
      },
      "execution_count": 16,
      "outputs": []
    },
    {
      "cell_type": "code",
      "source": [
        "# d = número máximo de diferenças permitidas\n",
        "\n",
        "def procura_padrao(genes, padrao, d):\n",
        "  tamanho_padrao = len(padrao)\n",
        "  gene_id = 0 \n",
        "\n",
        "  for gene in genes:\n",
        "    gene_id += 1\n",
        "    tamanho_gene = len(gene)\n",
        "\n",
        "    for pos in range(tamanho_gene - tamanho_padrao + 1):\n",
        "      janela = gene[pos:pos + tamanho_padrao]\n",
        "      diferencas = conta_diferencas(janela, padrao)\n",
        "      if diferencas <= d:\n",
        "        print(f'Gene {gene_id} -> {janela}')\n",
        "        print(f'Padrão -> {padrao}')\n",
        "        print(f'Diferenças -> {diferencas}')\n",
        "        print(f'Localização no gene: {pos}-{tamanho_padrao}\\n')"
      ],
      "metadata": {
        "id": "wlwboH7b980S"
      },
      "execution_count": 17,
      "outputs": []
    },
    {
      "cell_type": "code",
      "source": [
        "procura_padrao(genes,padrao, 3)"
      ],
      "metadata": {
        "colab": {
          "base_uri": "https://localhost:8080/"
        },
        "id": "4SylLpsNBCUu",
        "outputId": "84dd5c47-364c-4c0a-fb57-dbdc350cea23"
      },
      "execution_count": 18,
      "outputs": [
        {
          "output_type": "stream",
          "name": "stdout",
          "text": [
            "Gene 1 -> TACGTGCT\n",
            "Padrão -> TACGTGCT\n",
            "Diferenças -> 0\n",
            "Localização no gene: 3-8\n",
            "\n",
            "Gene 2 -> TTCGTGCT\n",
            "Padrão -> TACGTGCT\n",
            "Diferenças -> 1\n",
            "Localização no gene: 13-8\n",
            "\n",
            "Gene 3 -> AACGTGAT\n",
            "Padrão -> TACGTGCT\n",
            "Diferenças -> 2\n",
            "Localização no gene: 5-8\n",
            "\n",
            "Gene 4 -> CACGTACA\n",
            "Padrão -> TACGTGCT\n",
            "Diferenças -> 3\n",
            "Localização no gene: 20-8\n",
            "\n"
          ]
        }
      ]
    }
  ]
}