{
  "nbformat": 4,
  "nbformat_minor": 0,
  "metadata": {
    "colab": {
      "name": "biopython3.ipynb",
      "provenance": [],
      "authorship_tag": "ABX9TyMNWQ5b8iju61hu5xdripEF",
      "include_colab_link": true
    },
    "kernelspec": {
      "name": "python3",
      "display_name": "Python 3"
    },
    "language_info": {
      "name": "python"
    }
  },
  "cells": [
    {
      "cell_type": "markdown",
      "metadata": {
        "id": "view-in-github",
        "colab_type": "text"
      },
      "source": [
        "<a href=\"https://colab.research.google.com/github/vitorbarbosa123/Gene-python/blob/master/biopython3.ipynb\" target=\"_parent\"><img src=\"https://colab.research.google.com/assets/colab-badge.svg\" alt=\"Open In Colab\"/></a>"
      ]
    },
    {
      "cell_type": "markdown",
      "source": [
        "# **Identificando mutações em uma sequência**"
      ],
      "metadata": {
        "id": "PKWNPztD2iR-"
      }
    },
    {
      "cell_type": "code",
      "execution_count": 15,
      "metadata": {
        "id": "AIwVj5Bz1y6v"
      },
      "outputs": [],
      "source": [
        "seq1 =\"ATGCGGTTCGATCGTTTAAAAGGGCTTTGGTCGACCTGACGTCCAATGCTAGGGCCTTTCCGGGGGGTTCAAAAGCGTAAACCGGAAGCGTTGCAAATTTGGTGCAAGTCGTTTAGGGCCCAAGGTTGGCAAAGGTTTATTGACGTTAGCAGCAAGGTGACGACGATGACGATCGATCGACCAGCTGATTGGCAAAGGTTTATTGACGTTAGCAGCAAGGTGACGACGATGACGATCGATCGACCAGCTGATTCGACGTCGACGCTGACCGTTTTAAAAAGCTGAGCTAGCTGAGCTAGCTACGGTGCGTGTGAAAACGCGCGGGTGACGTTGCCAGCGCGTTACGTTCTCGACCGTTGCTACCGTGCCAGGTGGGAAACCGGAACG\"\n",
        "seq2 =\"AGGCGATTCGATCGTTCAAAAGGGCTTTGGTCGACCTGATGTCCAATGCTAGGGCCTTCCCGGGGGGTTCAAAAGCGTAGACCGGAAGCGTTACAAATTTGGTGCAAGTCGTTTAGGGCCCGAGCTTGGCATAGGCTTATTGACGTTAGCAGCAAGGTGATGACGTTACAAATTTGGTGCAAGTCGTTTAGGGCCCGAGCTTGGCATAGGCTTATTGACGTTAGCAGCAAGGTGATGAGACGATGACGATCGATCGACCAGATGAGATTCGACGTCGATGCTGACCGTTTTACAAAGCTGAACTAGCTACGGTGCGTGTGAGACGCGCGGATGACTTTGCCAGCGCGTTACGTTCTCGATCGTTGCTACCGTGCCAAGTGGGAAACG\" "
      ]
    },
    {
      "cell_type": "code",
      "source": [
        "substituicoes = 0"
      ],
      "metadata": {
        "id": "QW6dUyJV22bq"
      },
      "execution_count": 2,
      "outputs": []
    },
    {
      "cell_type": "code",
      "source": [
        "for base1, base2 in zip(seq1, seq2):\n",
        "  if base1 != base2:\n",
        "    substituicoes += 1\n",
        "    print(f'{base1} --> {base2}')"
      ],
      "metadata": {
        "colab": {
          "base_uri": "https://localhost:8080/"
        },
        "id": "CYwoEiAp24-V",
        "outputId": "15c9c7b9-ebde-4d90-b936-68f87e375435"
      },
      "execution_count": 18,
      "outputs": [
        {
          "output_type": "stream",
          "name": "stdout",
          "text": [
            "T --> G\n",
            "G --> A\n",
            "T --> C\n",
            "C --> T\n",
            "T --> C\n",
            "A --> G\n",
            "G --> A\n",
            "A --> G\n",
            "G --> C\n",
            "A --> T\n",
            "T --> C\n",
            "C --> T\n",
            "A --> T\n",
            "G --> A\n",
            "A --> C\n",
            "C --> A\n",
            "G --> A\n",
            "C --> T\n",
            "G --> T\n",
            "A --> G\n",
            "T --> G\n",
            "C --> T\n",
            "A --> C\n",
            "C --> A\n",
            "C --> A\n",
            "A --> G\n",
            "G --> T\n",
            "T --> G\n",
            "G --> T\n",
            "A --> T\n",
            "T --> A\n",
            "C --> G\n",
            "A --> C\n",
            "A --> C\n",
            "A --> C\n",
            "G --> A\n",
            "T --> G\n",
            "T --> C\n",
            "A --> T\n",
            "T --> G\n",
            "T --> G\n",
            "G --> C\n",
            "C --> T\n",
            "G --> A\n",
            "T --> G\n",
            "T --> G\n",
            "A --> C\n",
            "G --> T\n",
            "C --> T\n",
            "G --> T\n",
            "C --> T\n",
            "A --> G\n",
            "G --> C\n",
            "G --> T\n",
            "C --> G\n",
            "G --> C\n",
            "C --> G\n",
            "G --> C\n",
            "T --> A\n",
            "A --> G\n",
            "C --> T\n",
            "C --> G\n",
            "G --> A\n",
            "A --> G\n",
            "T --> A\n",
            "C --> T\n",
            "C --> G\n",
            "G --> C\n",
            "C --> G\n",
            "T --> A\n",
            "G --> T\n",
            "A --> C\n",
            "T --> G\n",
            "T --> A\n",
            "C --> T\n",
            "G --> C\n",
            "A --> G\n",
            "C --> A\n",
            "G --> C\n",
            "T --> C\n",
            "C --> A\n",
            "C --> T\n",
            "C --> A\n",
            "T --> G\n",
            "G --> A\n",
            "A --> T\n",
            "C --> T\n",
            "T --> A\n",
            "T --> C\n",
            "T --> G\n",
            "A --> C\n",
            "A --> G\n",
            "A --> T\n",
            "A --> G\n",
            "G --> C\n",
            "C --> T\n",
            "T --> G\n",
            "G --> A\n",
            "A --> C\n",
            "G --> C\n",
            "C --> G\n",
            "A --> T\n",
            "G --> T\n",
            "C --> T\n",
            "T --> A\n",
            "G --> C\n",
            "G --> A\n",
            "C --> A\n",
            "T --> G\n",
            "A --> C\n",
            "G --> T\n",
            "C --> G\n",
            "T --> A\n",
            "G --> T\n",
            "G --> A\n",
            "T --> G\n",
            "G --> C\n",
            "C --> T\n",
            "G --> A\n",
            "T --> C\n",
            "T --> G\n",
            "G --> T\n",
            "A --> G\n",
            "A --> C\n",
            "A --> G\n",
            "A --> T\n",
            "C --> G\n",
            "G --> T\n",
            "C --> G\n",
            "G --> A\n",
            "C --> G\n",
            "G --> A\n",
            "G --> C\n",
            "T --> C\n",
            "A --> C\n",
            "C --> G\n",
            "T --> A\n",
            "C --> A\n",
            "A --> T\n",
            "G --> T\n",
            "C --> T\n",
            "G --> C\n",
            "T --> A\n",
            "T --> G\n",
            "A --> C\n",
            "C --> G\n",
            "G --> C\n",
            "T --> G\n",
            "C --> T\n",
            "T --> A\n",
            "A --> T\n",
            "C --> T\n",
            "G --> T\n",
            "T --> C\n",
            "T --> G\n",
            "G --> A\n",
            "C --> T\n",
            "T --> C\n",
            "A --> G\n",
            "C --> T\n",
            "C --> T\n",
            "T --> C\n",
            "G --> T\n",
            "C --> A\n",
            "A --> C\n",
            "G --> T\n",
            "T --> G\n",
            "G --> C\n",
            "G --> C\n",
            "G --> A\n",
            "A --> G\n",
            "A --> T\n",
            "C --> G\n",
            "C --> G\n",
            "G --> A\n"
          ]
        }
      ]
    },
    {
      "cell_type": "markdown",
      "source": [
        "Por mais que as substituições possam acontecer com qualquer valor, existem preferências. Pois estas trocas não são tão drásticas\n",
        "\n"
      ],
      "metadata": {
        "id": "AaFHVhEj3T2S"
      }
    },
    {
      "cell_type": "code",
      "source": [
        "# Transição - Substituição de Adenina(A) para Guanina(G) ou virse versa (Dois aneis)\n",
        "#           - Substituição de Citosina(C) para Timina(T) ou virse versa (Um anel)\n",
        "\n",
        "# Transversão - Substituição de Adenina(A) para Timina(T) ou virse versa (Dois aneis para um)\n",
        "#             - Substituição de Citosina(C) para Guanina(G) ou virse versa (Dois aneis para um)"
      ],
      "metadata": {
        "id": "UMohCcYx3sik"
      },
      "execution_count": null,
      "outputs": []
    },
    {
      "cell_type": "code",
      "source": [
        "# Classificando as substituições que aconteceram\n",
        "\n",
        "transicao = 0\n",
        "transversao = 0"
      ],
      "metadata": {
        "id": "aH2iB6WO6vcs"
      },
      "execution_count": 21,
      "outputs": []
    },
    {
      "cell_type": "code",
      "source": [
        "mutacao_transicao = {\n",
        "    \"A\": \"G\",\n",
        "    \"G\": \"A\",\n",
        "    \"C\": \"T\",\n",
        "    \"T\": \"C\"\n",
        "}"
      ],
      "metadata": {
        "id": "RGnG1Qg264I6"
      },
      "execution_count": 22,
      "outputs": []
    },
    {
      "cell_type": "code",
      "source": [
        "for base1, base2 in zip(seq1, seq2):\n",
        "  if base1 != base2:\n",
        "    if mutacao_transicao[base1] == base2:\n",
        "      transicao += 1\n",
        "    else:\n",
        "      transversao += 1"
      ],
      "metadata": {
        "id": "OgshTz_m7LM6"
      },
      "execution_count": 24,
      "outputs": []
    },
    {
      "cell_type": "code",
      "source": [
        "print(f'Transições = {transicao}')\n",
        "print(f'Transversões = {transversao}')"
      ],
      "metadata": {
        "colab": {
          "base_uri": "https://localhost:8080/"
        },
        "id": "R3ioRuWI7b4J",
        "outputId": "13352df8-c7a5-441d-8d7a-8efa30e0dabf"
      },
      "execution_count": 26,
      "outputs": [
        {
          "output_type": "stream",
          "name": "stdout",
          "text": [
            "Transições = 63\n",
            "Transversões = 112\n"
          ]
        }
      ]
    },
    {
      "cell_type": "code",
      "source": [
        "razao = transicao / transversao"
      ],
      "metadata": {
        "id": "h29AfuOa7nwI"
      },
      "execution_count": 27,
      "outputs": []
    },
    {
      "cell_type": "code",
      "source": [
        "razao"
      ],
      "metadata": {
        "colab": {
          "base_uri": "https://localhost:8080/"
        },
        "id": "v27wE8Oj7r6r",
        "outputId": "2652e7e9-2630-4dc8-a70d-5a0dc4aefea7"
      },
      "execution_count": 28,
      "outputs": [
        {
          "output_type": "execute_result",
          "data": {
            "text/plain": [
              "0.5625"
            ]
          },
          "metadata": {},
          "execution_count": 28
        }
      ]
    }
  ]
}